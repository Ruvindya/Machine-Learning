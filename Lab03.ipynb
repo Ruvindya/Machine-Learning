{
  "nbformat": 4,
  "nbformat_minor": 0,
  "metadata": {
    "colab": {
      "provenance": [],
      "authorship_tag": "ABX9TyOuBz1Ziq6jTae4W6eOjhRL",
      "include_colab_link": true
    },
    "kernelspec": {
      "name": "python3",
      "display_name": "Python 3"
    },
    "language_info": {
      "name": "python"
    }
  },
  "cells": [
    {
      "cell_type": "markdown",
      "metadata": {
        "id": "view-in-github",
        "colab_type": "text"
      },
      "source": [
        "<a href=\"https://colab.research.google.com/github/Ruvindya/Machine-Learning/blob/main/Lab03.ipynb\" target=\"_parent\"><img src=\"https://colab.research.google.com/assets/colab-badge.svg\" alt=\"Open In Colab\"/></a>"
      ]
    },
    {
      "cell_type": "markdown",
      "source": [
        "#LAB 03 2019E117"
      ],
      "metadata": {
        "id": "5yoAalDDsMsA"
      }
    },
    {
      "cell_type": "markdown",
      "source": [
        "##1. Study the dataset ’Fashion-MNIST’ in Keras. Answer the following questions in relation to the above dataset."
      ],
      "metadata": {
        "id": "yZbJJDmFsUQc"
      }
    },
    {
      "cell_type": "markdown",
      "source": [
        "(a) Find out whether it can be used for regression or classification."
      ],
      "metadata": {
        "id": "qeWaKZNcswxf"
      }
    },
    {
      "cell_type": "markdown",
      "source": [
        "*   It is used fot classification."
      ],
      "metadata": {
        "id": "06f1jP7JtHXK"
      }
    },
    {
      "cell_type": "markdown",
      "source": [
        "(b) What is the size of the images?"
      ],
      "metadata": {
        "id": "xTjzs4EYtYyl"
      }
    },
    {
      "cell_type": "markdown",
      "source": [
        "*   image is a 28 x 28 size grayscale image"
      ],
      "metadata": {
        "id": "W9T6-EeS4LYK"
      }
    },
    {
      "cell_type": "markdown",
      "source": [
        "(c) How many images are there in the train data?"
      ],
      "metadata": {
        "id": "qGFqvtrkuRb4"
      }
    },
    {
      "cell_type": "markdown",
      "source": [
        "*   The fashion MNIST dataset consists of 60,000 images for the training set data\n"
      ],
      "metadata": {
        "id": "eNe0t7zJ3xwa"
      }
    },
    {
      "cell_type": "markdown",
      "source": [
        "(d) State the number of images in test data."
      ],
      "metadata": {
        "id": "WvBACQoUu4fB"
      }
    },
    {
      "cell_type": "markdown",
      "source": [
        "*  10,000 images for the testing set."
      ],
      "metadata": {
        "id": "0QBApgRd5DRC"
      }
    },
    {
      "cell_type": "markdown",
      "source": [
        "(e) How many classes are there in the data? Write down those classes."
      ],
      "metadata": {
        "id": "gJb1jSBIvVN7"
      }
    },
    {
      "cell_type": "markdown",
      "source": [
        "* T-shirt/top\n",
        "* Trouser\n",
        "* Pullover\n",
        "* Dress\n",
        "* Coat\n",
        "* Sandal\n",
        "* Shirt\n",
        "* Sneaker\n",
        "* Bag\n",
        "* Ankle boot"
      ],
      "metadata": {
        "id": "nc9pe6vl6K5p"
      }
    },
    {
      "cell_type": "markdown",
      "source": [
        "##2. Load that dataset directly from Keras using Python."
      ],
      "metadata": {
        "id": "57g5AH7Gwh__"
      }
    },
    {
      "cell_type": "code",
      "source": [
        "import tensorflow as tf\n",
        "from tensorflow import keras\n",
        "\n",
        "fashion_mnist = keras.datasets.fashion_mnist\n",
        "\n",
        "(train_images, train_labels), (test_images, test_labels) = fashion_mnist.load_data()"
      ],
      "metadata": {
        "id": "3k_ncWzRvkzT"
      },
      "execution_count": 58,
      "outputs": []
    },
    {
      "cell_type": "markdown",
      "source": [
        "##3. View some images in training data, for example draw the 11th image in your training data."
      ],
      "metadata": {
        "id": "AWxX0sqCyp3z"
      }
    },
    {
      "cell_type": "code",
      "source": [
        "import matplotlib.pyplot as plt\n",
        "plt.figure(figsize=(1,1))\n",
        "plt.imshow(train_images[4000], cmap='gray')\n",
        "plt.axis('off')\n",
        "\n",
        "plt.show()"
      ],
      "metadata": {
        "colab": {
          "base_uri": "https://localhost:8080/",
          "height": 114
        },
        "id": "6YTxuhn4ySOk",
        "outputId": "f27d67b8-e7ab-4907-e60e-8f82da6f60b8"
      },
      "execution_count": 59,
      "outputs": [
        {
          "output_type": "display_data",
          "data": {
            "text/plain": [
              "<Figure size 100x100 with 1 Axes>"
            ],
            "image/png": "[encoded data removed]"
          },
          "metadata": {}
        }
      ]
    },
    {
      "cell_type": "markdown",
      "source": [
        "##4. Normalize your data (train and test) between 0 and 1.\n",
        "Hint: This is a grayscale image has pixel values between 0 and 255."
      ],
      "metadata": {
        "id": "wvJTzCSbziZH"
      }
    },
    {
      "cell_type": "code",
      "source": [
        "train_images = train_images / 255.0\n",
        "test_images = test_images / 255.0\n",
        "\n",
        "# zi = (xi – min(x)) / (max(x) – min(x))\n",
        "# train_images = (train_images - 0)/(255 - 0)\n",
        "# train_images = train_images/ 255\n",
        "\n",
        "# This improves the performance and training stability of the model.\n",
        "# This is required only when features have different ranges."
      ],
      "metadata": {
        "id": "DHkLwW9ky3Hj"
      },
      "execution_count": 60,
      "outputs": []
    },
    {
      "cell_type": "markdown",
      "source": [
        "##5. Now divide the training data into two: \n",
        "Validation images (first 5000 images from the initial training data) and Training images (rest of the images in your initial training data)."
      ],
      "metadata": {
        "id": "Rr6JoolTzvSX"
      }
    },
    {
      "cell_type": "code",
      "source": [
        "val_images = train_images[:5000]\n",
        "val_labels = train_labels[:5000]\n",
        "train_images = train_images[5000:]\n",
        "train_labels = train_labels[5000:]\n",
        "\n",
        "# data splitting is typically done to avoid overfitting\n"
      ],
      "metadata": {
        "id": "ewFOxHIUztsq"
      },
      "execution_count": 61,
      "outputs": []
    },
    {
      "cell_type": "markdown",
      "source": [
        "##6. Initialize the weight and bias parameters of your model.\n"
      ],
      "metadata": {
        "id": "2J2aDc6q0K0Z"
      }
    },
    {
      "cell_type": "code",
      "source": [
        "weight_init = keras.initializers.RandomNormal(mean=0.0, stddev=0.01, seed=None)\n",
        "bias_init = keras.initializers.Zeros()\n",
        "\n",
        "# Weight initialization is used to define the initial values for the parameters in neural network models prior to training the models\n",
        "# without bias weights, your model would have very limited movement when looking for a solution"
      ],
      "metadata": {
        "id": "pWyOSq360Hv6"
      },
      "execution_count": 62,
      "outputs": []
    },
    {
      "cell_type": "markdown",
      "source": [
        "##7. Now build the neural network model with the following characteristics:\n",
        "(a) One Flatten layer as the input layer.\n",
        "(b) Two dense relu layers as hidden layers.\n",
        "(c) A dense softmax layer as the output layer\n"
      ],
      "metadata": {
        "id": "Lgd1ljHZ0-9O"
      }
    },
    {
      "cell_type": "code",
      "source": [
        "\n",
        "model = keras.Sequential([\n",
        "    keras.layers.Flatten(input_shape=(28, 28)),\n",
        "    keras.layers.Dense(256, activation='relu', kernel_initializer=weight_init, bias_initializer=bias_init),\n",
        "    keras.layers.Dense(128, activation='relu', kernel_initializer=weight_init, bias_initializer=bias_init),\n",
        "    keras.layers.Dense(10, activation='softmax')\n",
        "])\n",
        "\n",
        "# Flatten is the function that converts the pooled feature map to a single column that is passed to the fully connected layer. Dense adds the fully connected layer to the neural network"
      ],
      "metadata": {
        "id": "RXetFNgb066p"
      },
      "execution_count": 63,
      "outputs": []
    },
    {
      "cell_type": "markdown",
      "source": [
        "##8. Answer the following questions.\n",
        "(a) What is the use of Flatten layer?"
      ],
      "metadata": {
        "id": "R_yUmOrfJeWM"
      }
    },
    {
      "cell_type": "markdown",
      "source": [
        "* By using flatten layer, can map the input images int 2D layer which is single column. Then it can compatible with dense layer"
      ],
      "metadata": {
        "id": "ME6tXOXWJn98"
      }
    },
    {
      "cell_type": "markdown",
      "source": [
        "(b) Generally, softmax activation function is used in the output layer of the classification networks. Why?"
      ],
      "metadata": {
        "id": "wLnBEWmLKTLB"
      }
    },
    {
      "cell_type": "markdown",
      "source": [
        "* The softmax activation function is commonly used in the output layer to normalizes the output probabilities across classes. Then it is suitable for multi-class classification. Those decimal probabilities must add up to 1.0"
      ],
      "metadata": {
        "id": "1GxLo9iuKY7F"
      }
    },
    {
      "cell_type": "markdown",
      "source": [
        "##9. Print the summary of the network"
      ],
      "metadata": {
        "id": "a_Ex-oDfMm_L"
      }
    },
    {
      "cell_type": "code",
      "source": [
        "model.summary()"
      ],
      "metadata": {
        "colab": {
          "base_uri": "https://localhost:8080/"
        },
        "id": "YxOO56_y1HxA",
        "outputId": "c6d82428-b9bc-4187-ff2b-e7376bebea40"
      },
      "execution_count": 64,
      "outputs": [
        {
          "output_type": "stream",
          "name": "stdout",
          "text": [
            "Model: \"sequential_2\"\n",
            "_________________________________________________________________\n",
            " Layer (type)                Output Shape              Param #   \n",
            "=================================================================\n",
            " flatten_2 (Flatten)         (None, 784)               0         \n",
            "                                                                 \n",
            " dense_6 (Dense)             (None, 256)               200960    \n",
            "                                                                 \n",
            " dense_7 (Dense)             (None, 128)               32896     \n",
            "                                                                 \n",
            " dense_8 (Dense)             (None, 10)                1290      \n",
            "                                                                 \n",
            "=================================================================\n",
            "Total params: 235,146\n",
            "Trainable params: 235,146\n",
            "Non-trainable params: 0\n",
            "_________________________________________________________________\n"
          ]
        }
      ]
    },
    {
      "cell_type": "markdown",
      "source": [
        "##10. Now compile the model with the desired loss function, optimizer and metrics."
      ],
      "metadata": {
        "id": "O8kQr0NdMzdZ"
      }
    },
    {
      "cell_type": "markdown",
      "source": [],
      "metadata": {
        "id": "25XDGf0gNAN-"
      }
    },
    {
      "cell_type": "code",
      "source": [
        "model.compile(optimizer='adam', loss='sparse_categorical_crossentropy', metrics=['accuracy'])"
      ],
      "metadata": {
        "id": "OF_6xlar1MUo"
      },
      "execution_count": 65,
      "outputs": []
    },
    {
      "cell_type": "markdown",
      "source": [
        "##11. Now train your model on the training data and validate your model."
      ],
      "metadata": {
        "id": "7hG2ib8LNMVr"
      }
    },
    {
      "cell_type": "code",
      "source": [
        "history = model.fit(train_images, train_labels, epochs=10, validation_data=(val_images, val_labels))\n"
      ],
      "metadata": {
        "colab": {
          "base_uri": "https://localhost:8080/"
        },
        "id": "PsJn1OJy1TDp",
        "outputId": "cc41af38-fda5-4ac9-e709-cd3f4faf6680"
      },
      "execution_count": 66,
      "outputs": [
        {
          "output_type": "stream",
          "name": "stdout",
          "text": [
            "Epoch 1/10\n",
            "1719/1719 [==============================] - 12s 7ms/step - loss: 0.5027 - accuracy: 0.8163 - val_loss: 0.4184 - val_accuracy: 0.8398\n",
            "Epoch 2/10\n",
            "1719/1719 [==============================] - 11s 6ms/step - loss: 0.3686 - accuracy: 0.8639 - val_loss: 0.3673 - val_accuracy: 0.8696\n",
            "Epoch 3/10\n",
            "1719/1719 [==============================] - 11s 7ms/step - loss: 0.3327 - accuracy: 0.8766 - val_loss: 0.3302 - val_accuracy: 0.8772\n",
            "Epoch 4/10\n",
            "1719/1719 [==============================] - 11s 7ms/step - loss: 0.3079 - accuracy: 0.8852 - val_loss: 0.3192 - val_accuracy: 0.8836\n",
            "Epoch 5/10\n",
            "1719/1719 [==============================] - 10s 6ms/step - loss: 0.2877 - accuracy: 0.8941 - val_loss: 0.3239 - val_accuracy: 0.8822\n",
            "Epoch 6/10\n",
            "1719/1719 [==============================] - 11s 7ms/step - loss: 0.2737 - accuracy: 0.8974 - val_loss: 0.3016 - val_accuracy: 0.8942\n",
            "Epoch 7/10\n",
            "1719/1719 [==============================] - 11s 7ms/step - loss: 0.2631 - accuracy: 0.9016 - val_loss: 0.2972 - val_accuracy: 0.8916\n",
            "Epoch 8/10\n",
            "1719/1719 [==============================] - 11s 7ms/step - loss: 0.2507 - accuracy: 0.9059 - val_loss: 0.3006 - val_accuracy: 0.8938\n",
            "Epoch 9/10\n",
            "1719/1719 [==============================] - 11s 7ms/step - loss: 0.2388 - accuracy: 0.9088 - val_loss: 0.3052 - val_accuracy: 0.8928\n",
            "Epoch 10/10\n",
            "1719/1719 [==============================] - 11s 7ms/step - loss: 0.2321 - accuracy: 0.9116 - val_loss: 0.3026 - val_accuracy: 0.8944\n"
          ]
        }
      ]
    },
    {
      "cell_type": "markdown",
      "source": [
        "##12. Evaluate your model on the test data. What is the accuracy of your model on the test data?"
      ],
      "metadata": {
        "id": "CHWlIC7jNUp7"
      }
    },
    {
      "cell_type": "code",
      "source": [
        "test_loss, test_acc = model.evaluate(test_images, test_labels)\n",
        "print(\"Accuracy on test data:\", test_acc)"
      ],
      "metadata": {
        "colab": {
          "base_uri": "https://localhost:8080/"
        },
        "id": "BcYR3n0D1V5w",
        "outputId": "62e78568-93a0-48ff-d08c-e42e1864fce5"
      },
      "execution_count": 67,
      "outputs": [
        {
          "output_type": "stream",
          "name": "stdout",
          "text": [
            "313/313 [==============================] - 1s 3ms/step - loss: 0.3424 - accuracy: 0.8859\n",
            "Accuracy on test data: 0.8859000205993652\n"
          ]
        }
      ]
    },
    {
      "cell_type": "markdown",
      "source": [
        "##13. Now take the first five samples of test data. Print the actual target classes and the predicted target classes of those five samples"
      ],
      "metadata": {
        "id": "BnThBMEINgv_"
      }
    },
    {
      "cell_type": "code",
      "source": [
        "# Predict the target classes for the first five samples of the test data\n",
        "class_labels = ['T-shirt/top', 'Trouser', 'Pullover', 'Dress', 'Coat',    'Sandal', 'Shirt', 'Sneaker', 'Bag', 'Ankle boot']\n",
        "predictions = model.predict(test_images[:5])\n",
        "predicted_classes = [class_labels[prediction.argmax()] for prediction in predictions]\n",
        "actual_classes = [class_labels[label] for label in test_labels[:5]]"
      ],
      "metadata": {
        "colab": {
          "base_uri": "https://localhost:8080/"
        },
        "id": "y-nrTr_n16Wd",
        "outputId": "4a88761e-5770-4712-c47a-5b777573d1d7"
      },
      "execution_count": 68,
      "outputs": [
        {
          "output_type": "stream",
          "name": "stdout",
          "text": [
            "1/1 [==============================] - 0s 91ms/step\n"
          ]
        }
      ]
    },
    {
      "cell_type": "code",
      "source": [
        "# Print the actual and predicted target classes\n",
        "for i in range(5):\n",
        "    print(\"Actual:\", actual_classes[i], \"Predicted:\", predicted_classes[i])"
      ],
      "metadata": {
        "colab": {
          "base_uri": "https://localhost:8080/"
        },
        "id": "lNEHC7CE1_mJ",
        "outputId": "0a85ccba-df55-46dc-9426-c591e98fcfbc"
      },
      "execution_count": 69,
      "outputs": [
        {
          "output_type": "stream",
          "name": "stdout",
          "text": [
            "Actual: Ankle boot Predicted: Ankle boot\n",
            "Actual: Pullover Predicted: Pullover\n",
            "Actual: Trouser Predicted: Trouser\n",
            "Actual: Trouser Predicted: Trouser\n",
            "Actual: Shirt Predicted: Shirt\n"
          ]
        }
      ]
    },
    {
      "cell_type": "code",
      "source": [],
      "metadata": {
        "id": "G5Fl51cl2EAZ"
      },
      "execution_count": 69,
      "outputs": []
    }
  ]
}