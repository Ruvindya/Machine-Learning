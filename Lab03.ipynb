{
  "nbformat": 4,
  "nbformat_minor": 0,
  "metadata": {
    "colab": {
      "provenance": [],
      "authorship_tag": "ABX9TyOPcdhnDUt0ME9auSPFOVU2",
      "include_colab_link": true
    },
    "kernelspec": {
      "name": "python3",
      "display_name": "Python 3"
    },
    "language_info": {
      "name": "python"
    }
  },
  "cells": [
    {
      "cell_type": "markdown",
      "metadata": {
        "id": "view-in-github",
        "colab_type": "text"
      },
      "source": [
        "<a href=\"https://colab.research.google.com/github/Ruvindya/Machine-Learning/blob/main/Lab03.ipynb\" target=\"_parent\"><img src=\"https://colab.research.google.com/assets/colab-badge.svg\" alt=\"Open In Colab\"/></a>"
      ]
    },
    {
      "cell_type": "markdown",
      "source": [
        "#LAB 03 2019E117"
      ],
      "metadata": {
        "id": "5yoAalDDsMsA"
      }
    },
    {
      "cell_type": "markdown",
      "source": [
        "##1. Study the dataset ’Fashion-MNIST’ in Keras. Answer the following questions in relation to the above dataset."
      ],
      "metadata": {
        "id": "yZbJJDmFsUQc"
      }
    },
    {
      "cell_type": "markdown",
      "source": [
        "(a) Find out whether it can be used for regression or classification."
      ],
      "metadata": {
        "id": "qeWaKZNcswxf"
      }
    },
    {
      "cell_type": "markdown",
      "source": [
        "*   It is used fot classification."
      ],
      "metadata": {
        "id": "06f1jP7JtHXK"
      }
    },
    {
      "cell_type": "markdown",
      "source": [
        "(b) What is the size of the images?"
      ],
      "metadata": {
        "id": "xTjzs4EYtYyl"
      }
    },
    {
      "cell_type": "code",
      "execution_count": 3,
      "metadata": {
        "id": "K5fyQi_mr4ML"
      },
      "outputs": [],
      "source": [
        "import tensorflow as tf\n",
        "from tensorflow import keras\n",
        "\n",
        "fashion_mnist = keras.datasets.fashion_mnist\n",
        "\n",
        "(train_images, train_labels), (test_images, test_labels) = fashion_mnist.load_data()"
      ]
    },
    {
      "cell_type": "code",
      "source": [
        "image_size = train_images.shape[1:]  # Shape of the train_images excluding the number of samples\n",
        "print(\"Size of the images:\")\n",
        "image_size"
      ],
      "metadata": {
        "colab": {
          "base_uri": "https://localhost:8080/"
        },
        "id": "8jyDBFbxtgTU",
        "outputId": "2c5a0b4c-230c-44ff-eb76-0e59f20bea6b"
      },
      "execution_count": 4,
      "outputs": [
        {
          "output_type": "stream",
          "name": "stdout",
          "text": [
            "Size of the images:\n"
          ]
        },
        {
          "output_type": "execute_result",
          "data": {
            "text/plain": [
              "(28, 28)"
            ]
          },
          "metadata": {},
          "execution_count": 4
        }
      ]
    },
    {
      "cell_type": "markdown",
      "source": [
        "(c) How many images are there in the train data?"
      ],
      "metadata": {
        "id": "qGFqvtrkuRb4"
      }
    },
    {
      "cell_type": "code",
      "source": [
        "num_train_images = train_images.shape[0]\n",
        "print(\"Number of images in the train data:\",num_train_images)\n",
        " "
      ],
      "metadata": {
        "colab": {
          "base_uri": "https://localhost:8080/"
        },
        "id": "tnpEFLvjuCR_",
        "outputId": "77b34065-67ff-486e-cfc2-bf52b6e8c975"
      },
      "execution_count": 6,
      "outputs": [
        {
          "output_type": "stream",
          "name": "stdout",
          "text": [
            "Number of images in the train data: 60000\n"
          ]
        }
      ]
    },
    {
      "cell_type": "markdown",
      "source": [
        "(d) State the number of images in test data."
      ],
      "metadata": {
        "id": "WvBACQoUu4fB"
      }
    },
    {
      "cell_type": "code",
      "source": [
        "num_test_images = test_images.shape[0]\n",
        "print(\"Number of images in the test data:\", num_test_images)"
      ],
      "metadata": {
        "colab": {
          "base_uri": "https://localhost:8080/"
        },
        "id": "rtq9FrThunHI",
        "outputId": "ae603ddc-dfc4-47fb-dec1-8b6f85dabd18"
      },
      "execution_count": 7,
      "outputs": [
        {
          "output_type": "stream",
          "name": "stdout",
          "text": [
            "Number of images in the test data: 10000\n"
          ]
        }
      ]
    },
    {
      "cell_type": "markdown",
      "source": [
        "(e) How many classes are there in the data? Write down those classes."
      ],
      "metadata": {
        "id": "gJb1jSBIvVN7"
      }
    },
    {
      "cell_type": "code",
      "source": [
        "num_classes = len(set(train_labels))\n",
        "class_labels = ['T-shirt/top', 'Trouser', 'Pullover', 'Dress', 'Coat','Sandal', 'Shirt', 'Sneaker', 'Bag', 'Ankle boot']\n",
        "\n",
        "print(\"Number of classes:\", num_classes)\n",
        "print(\"Class labels:\", class_labels)"
      ],
      "metadata": {
        "colab": {
          "base_uri": "https://localhost:8080/"
        },
        "id": "xx0l6UDmvMWp",
        "outputId": "6d9c4cf9-3bef-408d-89ce-ed983acd333f"
      },
      "execution_count": 8,
      "outputs": [
        {
          "output_type": "stream",
          "name": "stdout",
          "text": [
            "Number of classes: 10\n",
            "Class labels: ['T-shirt/top', 'Trouser', 'Pullover', 'Dress', 'Coat', 'Sandal', 'Shirt', 'Sneaker', 'Bag', 'Ankle boot']\n"
          ]
        }
      ]
    },
    {
      "cell_type": "markdown",
      "source": [
        "##2. Load that dataset directly from Keras using Python."
      ],
      "metadata": {
        "id": "57g5AH7Gwh__"
      }
    },
    {
      "cell_type": "code",
      "source": [],
      "metadata": {
        "id": "3k_ncWzRvkzT"
      },
      "execution_count": null,
      "outputs": []
    }
  ]
}